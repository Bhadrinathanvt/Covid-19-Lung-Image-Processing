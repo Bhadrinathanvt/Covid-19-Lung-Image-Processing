{
  "nbformat": 4,
  "nbformat_minor": 0,
  "metadata": {
    "colab": {
      "provenance": [],
      "authorship_tag": "ABX9TyNlgcd0RW94gLQ/xNRa7BcE",
      "include_colab_link": true
    },
    "kernelspec": {
      "name": "python3",
      "display_name": "Python 3"
    },
    "language_info": {
      "name": "python"
    }
  },
  "cells": [
    {
      "cell_type": "markdown",
      "metadata": {
        "id": "view-in-github",
        "colab_type": "text"
      },
      "source": [
        "<a href=\"https://colab.research.google.com/github/Bhadrinathanvt/Covid-19-Lung-Image-Processing/blob/main/img_infection_mask.ipynb\" target=\"_parent\"><img src=\"https://colab.research.google.com/assets/colab-badge.svg\" alt=\"Open In Colab\"/></a>"
      ]
    },
    {
      "cell_type": "code",
      "source": [
        "from google.colab import drive\n",
        "\n",
        "#Mount Google Drive\n",
        "drive.mount('/content/drive')"
      ],
      "metadata": {
        "colab": {
          "base_uri": "https://localhost:8080/"
        },
        "id": "CUd0AOv4X5Wm",
        "outputId": "99137c04-5984-42a0-bf82-cd0d34ac0a7f"
      },
      "execution_count": 9,
      "outputs": [
        {
          "output_type": "stream",
          "name": "stdout",
          "text": [
            "Mounted at /content/drive\n"
          ]
        }
      ]
    },
    {
      "cell_type": "code",
      "source": [
        "from google.colab import files\n",
        "uploaded = files.upload()"
      ],
      "metadata": {
        "colab": {
          "base_uri": "https://localhost:8080/",
          "height": 74
        },
        "id": "soZcIOC2VvE6",
        "outputId": "5210e05d-6f9e-4ce8-ddf3-aa6994357bc6"
      },
      "execution_count": 1,
      "outputs": [
        {
          "output_type": "display_data",
          "data": {
            "text/plain": [
              "<IPython.core.display.HTML object>"
            ],
            "text/html": [
              "\n",
              "     <input type=\"file\" id=\"files-0e3c9d4f-bac5-40ce-8907-a3c0ba02bb1d\" name=\"files[]\" multiple disabled\n",
              "        style=\"border:none\" />\n",
              "     <output id=\"result-0e3c9d4f-bac5-40ce-8907-a3c0ba02bb1d\">\n",
              "      Upload widget is only available when the cell has been executed in the\n",
              "      current browser session. Please rerun this cell to enable.\n",
              "      </output>\n",
              "      <script>// Copyright 2017 Google LLC\n",
              "//\n",
              "// Licensed under the Apache License, Version 2.0 (the \"License\");\n",
              "// you may not use this file except in compliance with the License.\n",
              "// You may obtain a copy of the License at\n",
              "//\n",
              "//      http://www.apache.org/licenses/LICENSE-2.0\n",
              "//\n",
              "// Unless required by applicable law or agreed to in writing, software\n",
              "// distributed under the License is distributed on an \"AS IS\" BASIS,\n",
              "// WITHOUT WARRANTIES OR CONDITIONS OF ANY KIND, either express or implied.\n",
              "// See the License for the specific language governing permissions and\n",
              "// limitations under the License.\n",
              "\n",
              "/**\n",
              " * @fileoverview Helpers for google.colab Python module.\n",
              " */\n",
              "(function(scope) {\n",
              "function span(text, styleAttributes = {}) {\n",
              "  const element = document.createElement('span');\n",
              "  element.textContent = text;\n",
              "  for (const key of Object.keys(styleAttributes)) {\n",
              "    element.style[key] = styleAttributes[key];\n",
              "  }\n",
              "  return element;\n",
              "}\n",
              "\n",
              "// Max number of bytes which will be uploaded at a time.\n",
              "const MAX_PAYLOAD_SIZE = 100 * 1024;\n",
              "\n",
              "function _uploadFiles(inputId, outputId) {\n",
              "  const steps = uploadFilesStep(inputId, outputId);\n",
              "  const outputElement = document.getElementById(outputId);\n",
              "  // Cache steps on the outputElement to make it available for the next call\n",
              "  // to uploadFilesContinue from Python.\n",
              "  outputElement.steps = steps;\n",
              "\n",
              "  return _uploadFilesContinue(outputId);\n",
              "}\n",
              "\n",
              "// This is roughly an async generator (not supported in the browser yet),\n",
              "// where there are multiple asynchronous steps and the Python side is going\n",
              "// to poll for completion of each step.\n",
              "// This uses a Promise to block the python side on completion of each step,\n",
              "// then passes the result of the previous step as the input to the next step.\n",
              "function _uploadFilesContinue(outputId) {\n",
              "  const outputElement = document.getElementById(outputId);\n",
              "  const steps = outputElement.steps;\n",
              "\n",
              "  const next = steps.next(outputElement.lastPromiseValue);\n",
              "  return Promise.resolve(next.value.promise).then((value) => {\n",
              "    // Cache the last promise value to make it available to the next\n",
              "    // step of the generator.\n",
              "    outputElement.lastPromiseValue = value;\n",
              "    return next.value.response;\n",
              "  });\n",
              "}\n",
              "\n",
              "/**\n",
              " * Generator function which is called between each async step of the upload\n",
              " * process.\n",
              " * @param {string} inputId Element ID of the input file picker element.\n",
              " * @param {string} outputId Element ID of the output display.\n",
              " * @return {!Iterable<!Object>} Iterable of next steps.\n",
              " */\n",
              "function* uploadFilesStep(inputId, outputId) {\n",
              "  const inputElement = document.getElementById(inputId);\n",
              "  inputElement.disabled = false;\n",
              "\n",
              "  const outputElement = document.getElementById(outputId);\n",
              "  outputElement.innerHTML = '';\n",
              "\n",
              "  const pickedPromise = new Promise((resolve) => {\n",
              "    inputElement.addEventListener('change', (e) => {\n",
              "      resolve(e.target.files);\n",
              "    });\n",
              "  });\n",
              "\n",
              "  const cancel = document.createElement('button');\n",
              "  inputElement.parentElement.appendChild(cancel);\n",
              "  cancel.textContent = 'Cancel upload';\n",
              "  const cancelPromise = new Promise((resolve) => {\n",
              "    cancel.onclick = () => {\n",
              "      resolve(null);\n",
              "    };\n",
              "  });\n",
              "\n",
              "  // Wait for the user to pick the files.\n",
              "  const files = yield {\n",
              "    promise: Promise.race([pickedPromise, cancelPromise]),\n",
              "    response: {\n",
              "      action: 'starting',\n",
              "    }\n",
              "  };\n",
              "\n",
              "  cancel.remove();\n",
              "\n",
              "  // Disable the input element since further picks are not allowed.\n",
              "  inputElement.disabled = true;\n",
              "\n",
              "  if (!files) {\n",
              "    return {\n",
              "      response: {\n",
              "        action: 'complete',\n",
              "      }\n",
              "    };\n",
              "  }\n",
              "\n",
              "  for (const file of files) {\n",
              "    const li = document.createElement('li');\n",
              "    li.append(span(file.name, {fontWeight: 'bold'}));\n",
              "    li.append(span(\n",
              "        `(${file.type || 'n/a'}) - ${file.size} bytes, ` +\n",
              "        `last modified: ${\n",
              "            file.lastModifiedDate ? file.lastModifiedDate.toLocaleDateString() :\n",
              "                                    'n/a'} - `));\n",
              "    const percent = span('0% done');\n",
              "    li.appendChild(percent);\n",
              "\n",
              "    outputElement.appendChild(li);\n",
              "\n",
              "    const fileDataPromise = new Promise((resolve) => {\n",
              "      const reader = new FileReader();\n",
              "      reader.onload = (e) => {\n",
              "        resolve(e.target.result);\n",
              "      };\n",
              "      reader.readAsArrayBuffer(file);\n",
              "    });\n",
              "    // Wait for the data to be ready.\n",
              "    let fileData = yield {\n",
              "      promise: fileDataPromise,\n",
              "      response: {\n",
              "        action: 'continue',\n",
              "      }\n",
              "    };\n",
              "\n",
              "    // Use a chunked sending to avoid message size limits. See b/62115660.\n",
              "    let position = 0;\n",
              "    do {\n",
              "      const length = Math.min(fileData.byteLength - position, MAX_PAYLOAD_SIZE);\n",
              "      const chunk = new Uint8Array(fileData, position, length);\n",
              "      position += length;\n",
              "\n",
              "      const base64 = btoa(String.fromCharCode.apply(null, chunk));\n",
              "      yield {\n",
              "        response: {\n",
              "          action: 'append',\n",
              "          file: file.name,\n",
              "          data: base64,\n",
              "        },\n",
              "      };\n",
              "\n",
              "      let percentDone = fileData.byteLength === 0 ?\n",
              "          100 :\n",
              "          Math.round((position / fileData.byteLength) * 100);\n",
              "      percent.textContent = `${percentDone}% done`;\n",
              "\n",
              "    } while (position < fileData.byteLength);\n",
              "  }\n",
              "\n",
              "  // All done.\n",
              "  yield {\n",
              "    response: {\n",
              "      action: 'complete',\n",
              "    }\n",
              "  };\n",
              "}\n",
              "\n",
              "scope.google = scope.google || {};\n",
              "scope.google.colab = scope.google.colab || {};\n",
              "scope.google.colab._files = {\n",
              "  _uploadFiles,\n",
              "  _uploadFilesContinue,\n",
              "};\n",
              "})(self);\n",
              "</script> "
            ]
          },
          "metadata": {}
        },
        {
          "output_type": "stream",
          "name": "stdout",
          "text": [
            "Saving covid_1579.png to covid_1579.png\n"
          ]
        }
      ]
    },
    {
      "cell_type": "code",
      "execution_count": 19,
      "metadata": {
        "id": "UUI4Ee8LUj2X"
      },
      "outputs": [],
      "source": [
        "from google.colab.patches import cv2_imshow\n",
        "import tensorflow as tf\n",
        "from tensorflow.keras import layers, models\n",
        "import numpy as np\n",
        "import cv2\n",
        "import os\n",
        "import random"
      ]
    },
    {
      "cell_type": "code",
      "source": [
        "\n",
        "# Define the U-Net model architecture\n",
        "def unet_model(input_shape):\n",
        "    inputs = layers.Input(input_shape)\n",
        "\n",
        "    # Encoder\n",
        "    conv1 = layers.Conv2D(64, (3, 3), activation=\"relu\", padding=\"same\")(inputs)\n",
        "    conv1 = layers.Conv2D(64, (3, 3), activation=\"relu\", padding=\"same\")(conv1)\n",
        "    pool1 = layers.MaxPooling2D((2, 2))(conv1)\n",
        "\n",
        "    conv2 = layers.Conv2D(128, (3, 3), activation=\"relu\", padding=\"same\")(pool1)\n",
        "    conv2 = layers.Conv2D(128, (3, 3), activation=\"relu\", padding=\"same\")(conv2)\n",
        "    pool2 = layers.MaxPooling2D((2, 2))(conv2)\n",
        "\n",
        "    conv3 = layers.Conv2D(256, (3, 3), activation=\"relu\", padding=\"same\")(pool2)\n",
        "    conv3 = layers.Conv2D(256, (3, 3), activation=\"relu\", padding=\"same\")(conv3)\n",
        "    pool3 = layers.MaxPooling2D((2, 2))(conv3)\n",
        "\n",
        "    conv4 = layers.Conv2D(512, (3, 3), activation=\"relu\", padding=\"same\")(pool3)\n",
        "    conv4 = layers.Conv2D(512, (3, 3), activation=\"relu\", padding=\"same\")(conv4)\n",
        "    pool4 = layers.MaxPooling2D((2, 2))(conv4)\n",
        "\n",
        "    # Bottleneck\n",
        "    conv5 = layers.Conv2D(1024, (3, 3), activation=\"relu\", padding=\"same\")(pool4)\n",
        "    conv5 = layers.Conv2D(1024, (3, 3), activation=\"relu\", padding=\"same\")(conv5)\n",
        "\n",
        "    # Decoder\n",
        "    up6 = layers.Conv2DTranspose(512, (2, 2), strides=(2, 2), padding=\"same\")(conv5)\n",
        "    up6 = layers.concatenate([up6, conv4])\n",
        "    conv6 = layers.Conv2D(512, (3, 3), activation=\"relu\", padding=\"same\")(up6)\n",
        "    conv6 = layers.Conv2D(512, (3, 3), activation=\"relu\", padding=\"same\")(conv6)\n",
        "\n",
        "    up7 = layers.Conv2DTranspose(256, (2, 2), strides=(2, 2), padding=\"same\")(conv6)\n",
        "    up7 = layers.concatenate([up7, conv3])\n",
        "    conv7 = layers.Conv2D(256, (3, 3), activation=\"relu\", padding=\"same\")(up7)\n",
        "    conv7 = layers.Conv2D(256, (3, 3), activation=\"relu\", padding=\"same\")(conv7)\n",
        "\n",
        "    up8 = layers.Conv2DTranspose(128, (2, 2), strides=(2, 2), padding=\"same\")(conv7)\n",
        "    up8 = layers.concatenate([up8, conv2])\n",
        "    conv8 = layers.Conv2D(128, (3, 3), activation=\"relu\", padding=\"same\")(up8)\n",
        "    conv8 = layers.Conv2D(128, (3, 3), activation=\"relu\", padding=\"same\")(conv8)\n",
        "\n",
        "    up9 = layers.Conv2DTranspose(64, (2, 2), strides=(2, 2), padding=\"same\")(conv8)\n",
        "    up9 = layers.concatenate([up9, conv1])\n",
        "    conv9 = layers.Conv2D(64, (3, 3), activation=\"relu\", padding=\"same\")(up9)\n",
        "    conv9 = layers.Conv2D(64, (3, 3), activation=\"relu\", padding=\"same\")(conv9)\n",
        "\n",
        "    outputs = layers.Conv2D(1, (1, 1), activation=\"sigmoid\")(conv9)\n",
        "\n",
        "    return models.Model(inputs=[inputs], outputs=[outputs])"
      ],
      "metadata": {
        "id": "Fc6Sn4iOVQm4"
      },
      "execution_count": 3,
      "outputs": []
    },
    {
      "cell_type": "code",
      "source": [
        "# Hyperparameters\n",
        "input_shape = (256, 256, 1)  # Adjust based on your image dimensions and grayscale\n",
        "batch_size = 16\n",
        "epochs = 11"
      ],
      "metadata": {
        "id": "TuPhrgW5Vdn5"
      },
      "execution_count": 47,
      "outputs": []
    },
    {
      "cell_type": "code",
      "source": [
        "print(os.listdir('/content/drive/My Drive/Infection_Segmentation_Data/Train/'))\n"
      ],
      "metadata": {
        "colab": {
          "base_uri": "https://localhost:8080/"
        },
        "id": "3fIQ5ZIMYb3f",
        "outputId": "0d7b18c0-f7bf-48b0-d93e-10eb09e440ab"
      },
      "execution_count": 51,
      "outputs": [
        {
          "output_type": "stream",
          "name": "stdout",
          "text": [
            "['.DS_Store', 'COVID-19', 'Normal', 'Non-COVID']\n"
          ]
        }
      ]
    },
    {
      "cell_type": "code",
      "source": [
        "# Path to the directory containing images\n",
        "covid_train_path = '/content/drive/My Drive/Infection_Segmentation_Data/Train/COVID-19/images'\n",
        "\n",
        "# Get a list of all files in the directory\n",
        "all_files = os.listdir(covid_train_path)\n",
        "\n",
        "# Filter out only image files\n",
        "covid_img_files = [file for file in all_files if file.lower().endswith(('.png'))]\n",
        "\n",
        "# Sort the files\n",
        "covid_img_files.sort()\n",
        "print(covid_img_files)\n",
        "\n",
        "random_image = random.choice(covid_img_files)\n",
        "file_path = os.path.join(covid_train_path, random_image)\n",
        "img = cv2.imread(file_path, cv2.IMREAD_GRAYSCALE)\n",
        "cv2_imshow(img)\n",
        "\n",
        "train_images = covid_img_files"
      ],
      "metadata": {
        "colab": {
          "base_uri": "https://localhost:8080/",
          "height": 311
        },
        "id": "dYU7Vu16W4UI",
        "outputId": "46c6a075-087f-4779-f09a-db2ade5bcd40"
      },
      "execution_count": 78,
      "outputs": [
        {
          "output_type": "stream",
          "name": "stdout",
          "text": [
            "['covid_1.png', 'covid_11.png', 'covid_12.png', 'covid_14.png', 'covid_15.png', 'covid_16.png', 'covid_17.png', 'covid_20.png', 'covid_22.png', 'covid_23.png', 'covid_24.png', 'covid_25.png', 'covid_27.png', 'covid_28.png', 'covid_29.png', 'covid_31.png', 'covid_32.png', 'covid_33.png', 'covid_35.png', 'covid_37.png', 'covid_38.png', 'covid_39.png', 'covid_4.png', 'covid_41.png', 'covid_42.png', 'covid_44.png', 'covid_5.png', 'covid_6.png', 'covid_7.png', 'covid_9.png']\n"
          ]
        },
        {
          "output_type": "display_data",
          "data": {
            "text/plain": [
              "<PIL.Image.Image image mode=L size=256x256>"
            ],
            "image/png": "[encoded data removed]",
            "image/jpeg": "[encoded data removed]"
          },
          "metadata": {}
        }
      ]
    },
    {
      "cell_type": "code",
      "source": [
        "# Path to the directory containing images\n",
        "inf_train_path = '/content/drive/My Drive/Infection_Segmentation_Data/Train/COVID-19/infection masks'\n",
        "\n",
        "# Get a list of all files in the directory\n",
        "all_files = os.listdir(inf_train_path)\n",
        "\n",
        "# Filter out only image files\n",
        "infection_mask_files = [file for file in all_files if file.lower().endswith(('.png'))]\n",
        "\n",
        "# Sort the files\n",
        "infection_mask_files.sort()\n",
        "\n",
        "# Sort the files\n",
        "print(infection_mask_files)\n",
        "\n",
        "file_path = os.path.join(inf_train_path, random_image)\n",
        "img = cv2.imread(file_path, cv2.IMREAD_GRAYSCALE)\n",
        "cv2_imshow(img)\n",
        "\n",
        "train_masks = infection_mask_files"
      ],
      "metadata": {
        "colab": {
          "base_uri": "https://localhost:8080/",
          "height": 311
        },
        "id": "720zkSA9aa1F",
        "outputId": "e9acb962-bfdd-4fb0-81f4-3df8a726cebf"
      },
      "execution_count": 81,
      "outputs": [
        {
          "output_type": "stream",
          "name": "stdout",
          "text": [
            "['covid_1.png', 'covid_11.png', 'covid_12.png', 'covid_14.png', 'covid_15.png', 'covid_16.png', 'covid_17.png', 'covid_20.png', 'covid_22.png', 'covid_23.png', 'covid_24.png', 'covid_25.png', 'covid_27.png', 'covid_28.png', 'covid_29.png', 'covid_31.png', 'covid_32.png', 'covid_33.png', 'covid_35.png', 'covid_37.png', 'covid_38.png', 'covid_39.png', 'covid_4.png', 'covid_41.png', 'covid_42.png', 'covid_44.png', 'covid_5.png', 'covid_6.png', 'covid_7.png', 'covid_9.png']\n"
          ]
        },
        {
          "output_type": "display_data",
          "data": {
            "text/plain": [
              "<PIL.Image.Image image mode=L size=256x256>"
            ],
            "image/png": "[encoded data removed]",
            "image/jpeg": "[encoded data removed]"
          },
          "metadata": {}
        }
      ]
    },
    {
      "cell_type": "code",
      "source": [
        "#Check corresponding images are present in both mask and image for Xray data\n",
        "if train_images == train_masks:\n",
        "  print('1')\n",
        "else:\n",
        "  print('0')"
      ],
      "metadata": {
        "colab": {
          "base_uri": "https://localhost:8080/"
        },
        "id": "t4y0bLnNghM-",
        "outputId": "60b08329-72de-442d-f58d-5d7796af802f"
      },
      "execution_count": 83,
      "outputs": [
        {
          "output_type": "stream",
          "name": "stdout",
          "text": [
            "1\n"
          ]
        }
      ]
    },
    {
      "cell_type": "code",
      "source": [
        "# Path to the directory containing images\n",
        "covid_val_path = '/content/drive/My Drive/Infection_Segmentation_Data/Val/COVID-19/images'\n",
        "\n",
        "# Get a list of all files in the directory\n",
        "all_files = os.listdir(covid_val_path)\n",
        "\n",
        "# Filter out only image files\n",
        "covid_files = [file for file in all_files if file.lower().endswith(('.png'))]\n",
        "\n",
        "# Sort the files\n",
        "covid_files.sort()\n",
        "\n",
        "# Sort the files if needed (optional)\n",
        "print(covid_files)\n",
        "\n",
        "random_image = random.choice(covid_files)\n",
        "file_path = os.path.join(covid_val_path, random_image)\n",
        "img = cv2.imread(file_path, cv2.IMREAD_GRAYSCALE)\n",
        "cv2_imshow(img)\n",
        "\n",
        "val_images = covid_files"
      ],
      "metadata": {
        "colab": {
          "base_uri": "https://localhost:8080/",
          "height": 311
        },
        "id": "0Wx5nsbocLeo",
        "outputId": "d280e1e8-3f92-49b3-e654-9cafce6a6c02"
      },
      "execution_count": 82,
      "outputs": [
        {
          "output_type": "stream",
          "name": "stdout",
          "text": [
            "['covid_1902.png', 'covid_1903.png', 'covid_1905.png', 'covid_1907.png', 'covid_1908.png', 'covid_1909.png', 'covid_1911.png', 'covid_1912.png', 'covid_1913.png', 'covid_1914.png', 'covid_1918.png', 'covid_1919.png', 'covid_1920.png', 'covid_1921.png', 'covid_1922.png', 'covid_1923.png', 'covid_1927.png', 'covid_1930.png', 'covid_1933.png', 'covid_1934.png', 'covid_1935.png', 'covid_1938.png', 'covid_1939.png', 'covid_1940.png', 'covid_1941.png', 'covid_1943.png', 'covid_1944.png', 'covid_1947.png', 'covid_1948.png', 'covid_1950.png']\n"
          ]
        },
        {
          "output_type": "display_data",
          "data": {
            "text/plain": [
              "<PIL.Image.Image image mode=L size=256x256>"
            ],
            "image/png": "[encoded data removed]",
            "image/jpeg": "[encoded data removed]"
          },
          "metadata": {}
        }
      ]
    },
    {
      "cell_type": "code",
      "source": [
        "# Path to the directory containing images\n",
        "inf_val_path = '/content/drive/My Drive/Infection_Segmentation_Data/Val/COVID-19/infection masks'\n",
        "\n",
        "# Get a list of all files in the directory\n",
        "all_files = os.listdir(inf_val_path)\n",
        "\n",
        "# Filter out only image files\n",
        "infection_mask_files = [file for file in all_files if file.lower().endswith(('.png'))]\n",
        "\n",
        "# Sort the files\n",
        "infection_mask_files.sort()\n",
        "\n",
        "# Sort the files\n",
        "print(infection_mask_files)\n",
        "\n",
        "file_path = os.path.join(inf_val_path, random_image)\n",
        "img = cv2.imread(file_path, cv2.IMREAD_GRAYSCALE)\n",
        "cv2_imshow(img)\n",
        "\n",
        "val_masks = infection_mask_files"
      ],
      "metadata": {
        "colab": {
          "base_uri": "https://localhost:8080/",
          "height": 311
        },
        "id": "QDXN8OVtdBEz",
        "outputId": "d90f379d-a3ce-4e2e-dcac-07e2853c883b"
      },
      "execution_count": 84,
      "outputs": [
        {
          "output_type": "stream",
          "name": "stdout",
          "text": [
            "['covid_1902.png', 'covid_1903.png', 'covid_1905.png', 'covid_1907.png', 'covid_1908.png', 'covid_1909.png', 'covid_1911.png', 'covid_1912.png', 'covid_1913.png', 'covid_1914.png', 'covid_1918.png', 'covid_1919.png', 'covid_1920.png', 'covid_1921.png', 'covid_1922.png', 'covid_1923.png', 'covid_1927.png', 'covid_1930.png', 'covid_1933.png', 'covid_1934.png', 'covid_1935.png', 'covid_1938.png', 'covid_1939.png', 'covid_1940.png', 'covid_1941.png', 'covid_1943.png', 'covid_1944.png', 'covid_1947.png', 'covid_1948.png', 'covid_1950.png']\n"
          ]
        },
        {
          "output_type": "display_data",
          "data": {
            "text/plain": [
              "<PIL.Image.Image image mode=L size=256x256>"
            ],
            "image/png": "[encoded data removed]",
            "image/jpeg": "[encoded data removed]"
          },
          "metadata": {}
        }
      ]
    },
    {
      "cell_type": "code",
      "source": [
        "#Check corresponding images are present in both mask and image for validation data\n",
        "if val_images == val_masks:\n",
        "  print('1')\n",
        "else:\n",
        "  print('0')"
      ],
      "metadata": {
        "colab": {
          "base_uri": "https://localhost:8080/"
        },
        "id": "jAlyOC72hDz3",
        "outputId": "5ee973e4-b7b5-43e3-fb22-602f1adc5679"
      },
      "execution_count": 85,
      "outputs": [
        {
          "output_type": "stream",
          "name": "stdout",
          "text": [
            "1\n"
          ]
        }
      ]
    },
    {
      "cell_type": "code",
      "source": [
        "def load_data(xray_dir,mask_dir,img_files):\n",
        "  images = []\n",
        "  masks = []\n",
        "  for img_file in img_files:\n",
        "          #read x_ray images\n",
        "          img = cv2.imread(os.path.join(xray_dir, img_file), cv2.IMREAD_GRAYSCALE)\n",
        "\n",
        "          #read infected mask images\n",
        "          mask = cv2.imread(os.path.join(mask_dir, img_file), cv2.IMREAD_GRAYSCALE)\n",
        "\n",
        "          #map to 0-1\n",
        "          images.append(img / 255.0)\n",
        "          masks.append(mask / 255.0)\n",
        "  return np.expand_dims(np.array(images), -1), np.expand_dims(np.array(masks), -1)"
      ],
      "metadata": {
        "id": "ztUhyXWcexI0"
      },
      "execution_count": 76,
      "outputs": []
    },
    {
      "cell_type": "code",
      "source": [
        "# Compile and train the model\n",
        "model = unet_model(input_shape)\n",
        "model.compile(optimizer=\"adam\", loss=\"binary_crossentropy\", metrics=[\"accuracy\"])\n",
        "\n",
        "history = model.fit(\n",
        "    train_images, train_masks,\n",
        "    validation_data=(val_images, val_masks),\n",
        "    batch_size=batch_size,\n",
        "    epochs=epochs\n",
        ")"
      ],
      "metadata": {
        "colab": {
          "base_uri": "https://localhost:8080/",
          "height": 400
        },
        "id": "9btnyxgxWUo6",
        "outputId": "972edf80-1cf5-45a5-9fa0-b50b4fa57577"
      },
      "execution_count": 71,
      "outputs": [
        {
          "output_type": "error",
          "ename": "ValueError",
          "evalue": "Unrecognized data type: x=['covid_1.png', 'covid_11.png', 'covid_12.png', 'covid_14.png', 'covid_15.png', 'covid_16.png', 'covid_17.png', 'covid_20.png', 'covid_22.png', 'covid_23.png', 'covid_24.png', 'covid_25.png', 'covid_27.png', 'covid_28.png', 'covid_29.png', 'covid_31.png', 'covid_32.png', 'covid_33.png', 'covid_35.png', 'covid_37.png', 'covid_38.png', 'covid_39.png', 'covid_4.png', 'covid_41.png', 'covid_42.png', 'covid_44.png', 'covid_5.png', 'covid_6.png', 'covid_7.png', 'covid_9.png'] (of type <class 'list'>)",
          "traceback": [
            "\u001b[0;31m---------------------------------------------------------------------------\u001b[0m",
            "\u001b[0;31mValueError\u001b[0m                                Traceback (most recent call last)",
            "\u001b[0;32m<ipython-input-71-7795a296b7d6>\u001b[0m in \u001b[0;36m<cell line: 5>\u001b[0;34m()\u001b[0m\n\u001b[1;32m      3\u001b[0m \u001b[0mmodel\u001b[0m\u001b[0;34m.\u001b[0m\u001b[0mcompile\u001b[0m\u001b[0;34m(\u001b[0m\u001b[0moptimizer\u001b[0m\u001b[0;34m=\u001b[0m\u001b[0;34m\"adam\"\u001b[0m\u001b[0;34m,\u001b[0m \u001b[0mloss\u001b[0m\u001b[0;34m=\u001b[0m\u001b[0;34m\"binary_crossentropy\"\u001b[0m\u001b[0;34m,\u001b[0m \u001b[0mmetrics\u001b[0m\u001b[0;34m=\u001b[0m\u001b[0;34m[\u001b[0m\u001b[0;34m\"accuracy\"\u001b[0m\u001b[0;34m]\u001b[0m\u001b[0;34m)\u001b[0m\u001b[0;34m\u001b[0m\u001b[0;34m\u001b[0m\u001b[0m\n\u001b[1;32m      4\u001b[0m \u001b[0;34m\u001b[0m\u001b[0m\n\u001b[0;32m----> 5\u001b[0;31m history = model.fit(\n\u001b[0m\u001b[1;32m      6\u001b[0m     \u001b[0mtrain_images\u001b[0m\u001b[0;34m,\u001b[0m \u001b[0mtrain_masks\u001b[0m\u001b[0;34m,\u001b[0m\u001b[0;34m\u001b[0m\u001b[0;34m\u001b[0m\u001b[0m\n\u001b[1;32m      7\u001b[0m     \u001b[0mvalidation_data\u001b[0m\u001b[0;34m=\u001b[0m\u001b[0;34m(\u001b[0m\u001b[0mval_images\u001b[0m\u001b[0;34m,\u001b[0m \u001b[0mval_masks\u001b[0m\u001b[0;34m)\u001b[0m\u001b[0;34m,\u001b[0m\u001b[0;34m\u001b[0m\u001b[0;34m\u001b[0m\u001b[0m\n",
            "\u001b[0;32m/usr/local/lib/python3.10/dist-packages/keras/src/utils/traceback_utils.py\u001b[0m in \u001b[0;36merror_handler\u001b[0;34m(*args, **kwargs)\u001b[0m\n\u001b[1;32m    120\u001b[0m             \u001b[0;31m# To get the full stack trace, call:\u001b[0m\u001b[0;34m\u001b[0m\u001b[0;34m\u001b[0m\u001b[0m\n\u001b[1;32m    121\u001b[0m             \u001b[0;31m# `keras.config.disable_traceback_filtering()`\u001b[0m\u001b[0;34m\u001b[0m\u001b[0;34m\u001b[0m\u001b[0m\n\u001b[0;32m--> 122\u001b[0;31m             \u001b[0;32mraise\u001b[0m \u001b[0me\u001b[0m\u001b[0;34m.\u001b[0m\u001b[0mwith_traceback\u001b[0m\u001b[0;34m(\u001b[0m\u001b[0mfiltered_tb\u001b[0m\u001b[0;34m)\u001b[0m \u001b[0;32mfrom\u001b[0m \u001b[0;32mNone\u001b[0m\u001b[0;34m\u001b[0m\u001b[0;34m\u001b[0m\u001b[0m\n\u001b[0m\u001b[1;32m    123\u001b[0m         \u001b[0;32mfinally\u001b[0m\u001b[0;34m:\u001b[0m\u001b[0;34m\u001b[0m\u001b[0;34m\u001b[0m\u001b[0m\n\u001b[1;32m    124\u001b[0m             \u001b[0;32mdel\u001b[0m \u001b[0mfiltered_tb\u001b[0m\u001b[0;34m\u001b[0m\u001b[0;34m\u001b[0m\u001b[0m\n",
            "\u001b[0;32m/usr/local/lib/python3.10/dist-packages/keras/src/trainers/data_adapters/__init__.py\u001b[0m in \u001b[0;36mget_data_adapter\u001b[0;34m(x, y, sample_weight, batch_size, steps_per_epoch, shuffle, class_weight)\u001b[0m\n\u001b[1;32m    118\u001b[0m         \u001b[0;31m# )\u001b[0m\u001b[0;34m\u001b[0m\u001b[0;34m\u001b[0m\u001b[0m\n\u001b[1;32m    119\u001b[0m     \u001b[0;32melse\u001b[0m\u001b[0;34m:\u001b[0m\u001b[0;34m\u001b[0m\u001b[0;34m\u001b[0m\u001b[0m\n\u001b[0;32m--> 120\u001b[0;31m         \u001b[0;32mraise\u001b[0m \u001b[0mValueError\u001b[0m\u001b[0;34m(\u001b[0m\u001b[0;34mf\"Unrecognized data type: x={x} (of type {type(x)})\"\u001b[0m\u001b[0;34m)\u001b[0m\u001b[0;34m\u001b[0m\u001b[0;34m\u001b[0m\u001b[0m\n\u001b[0m\u001b[1;32m    121\u001b[0m \u001b[0;34m\u001b[0m\u001b[0m\n\u001b[1;32m    122\u001b[0m \u001b[0;34m\u001b[0m\u001b[0m\n",
            "\u001b[0;31mValueError\u001b[0m: Unrecognized data type: x=['covid_1.png', 'covid_11.png', 'covid_12.png', 'covid_14.png', 'covid_15.png', 'covid_16.png', 'covid_17.png', 'covid_20.png', 'covid_22.png', 'covid_23.png', 'covid_24.png', 'covid_25.png', 'covid_27.png', 'covid_28.png', 'covid_29.png', 'covid_31.png', 'covid_32.png', 'covid_33.png', 'covid_35.png', 'covid_37.png', 'covid_38.png', 'covid_39.png', 'covid_4.png', 'covid_41.png', 'covid_42.png', 'covid_44.png', 'covid_5.png', 'covid_6.png', 'covid_7.png', 'covid_9.png'] (of type <class 'list'>)"
          ]
        }
      ]
    },
    {
      "cell_type": "code",
      "source": [
        "# Predict on a new image\n",
        "def predict_mask(model, img_path):\n",
        "    img = cv2.imread(img_path, cv2.IMREAD_GRAYSCALE)\n",
        "    img = cv2.resize(img, (256, 256)) / 255.0\n",
        "    img = np.expand_dims(img, axis=(0, -1))  # Add batch and channel dimensions\n",
        "    pred_mask = model.predict(img)\n",
        "    return (pred_mask[0, :, :, 0] > 0.5).astype(np.uint8)  # Binary mask thresholding"
      ],
      "metadata": {
        "id": "BTwoLdOUVX4r"
      },
      "execution_count": null,
      "outputs": []
    },
    {
      "cell_type": "code",
      "source": [
        "# Example prediction\n",
        "predicted_mask = predict_mask(model, 'path/to/test/image.png')\n",
        "cv2.imwrite('path/to/output/mask.png', predicted_mask * 255)"
      ],
      "metadata": {
        "id": "dEMxk1JxVbho"
      },
      "execution_count": null,
      "outputs": []
    }
  ]
}